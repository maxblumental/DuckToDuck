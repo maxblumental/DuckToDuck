{
 "cells": [
  {
   "cell_type": "code",
   "execution_count": 1,
   "metadata": {},
   "outputs": [],
   "source": [
    "import numpy as np\n",
    "import torch\n",
    "import torch.nn as nn\n",
    "import math\n",
    "\n",
    "import matplotlib.pyplot as plt\n",
    "%matplotlib inline"
   ]
  },
  {
   "cell_type": "markdown",
   "metadata": {},
   "source": [
    "### Model"
   ]
  },
  {
   "cell_type": "markdown",
   "metadata": {},
   "source": [
    "We will consider simple Bayesian Super-Resolution Image Model. From technical side it is very similiar with RVM Regression (and they both have same author Michael E. Tipping).\n",
    "\n",
    "In general setting, what is going on:\n",
    "\n",
    "1. We are given K low-resolution images $y_k$ of one image high-resolution $x$\n",
    "2. We consider some linear degradation model for each image $W_k$\n",
    "3. Maximise Evidence of the model with respect to parameters\n",
    "4. Obtain high-resolution image estimator $x$\n"
   ]
  },
  {
   "cell_type": "markdown",
   "metadata": {},
   "source": [
    "For the image: \n",
    "\n",
    "$$ \n",
    "Img \\in\\mathbb R^{N\\times M} = \\begin{bmatrix}\n",
    "p_1 & \\dots  &  p_N \\\\ \n",
    "p_{N+1} & \\dots  & p_{2N} \\\\ \n",
    "\\dots & \\dots & \\dots \\\\\n",
    "p_{N+M} & \\dots & p_{NM}  \n",
    "\\end{bmatrix}\n",
    "$$\n",
    "\n",
    "We will consider following representations.\n",
    "\n",
    "Intensity vector:\n",
    "\n",
    "$$\n",
    "y = \\begin{bmatrix}\n",
    "& p_1 \\\\\n",
    "& \\vdots \\\\\n",
    "& \\vdots\\\\\n",
    "& \\vdots \\\\\n",
    "& p_{NM}\n",
    "\\end{bmatrix}\n",
    "$$\n",
    "\n",
    "\n",
    "2D-Spatial coordinates of the each pixel:\n",
    "\n",
    "$$\n",
    "V = \\begin{bmatrix}\n",
    "v_1 \\\\\n",
    "\\vdots \\\\\n",
    "\\vdots\\\\\n",
    "\\vdots \\\\\n",
    "v_{NM}\n",
    "\\end{bmatrix} = \\begin{bmatrix}\n",
    "1 & 1 \\\\\n",
    "1 & 2  \\\\\n",
    "\\vdots & \\vdots\\\\\n",
    "\\vdots & \\vdots \\\\\n",
    "N & M\n",
    "\\end{bmatrix}\n",
    "$$\n",
    "\n"
   ]
  },
  {
   "cell_type": "markdown",
   "metadata": {},
   "source": [
    "<img src=\"img/img2spatial.jpg\" width=\"600\">"
   ]
  },
  {
   "cell_type": "markdown",
   "metadata": {},
   "source": [
    "We consider low-resolution observed images $y^k\\in\\mathbb{R^M}$ and high-resolution unobserved $x\\in\\mathbb{R^N}$, $N>M$"
   ]
  },
  {
   "cell_type": "markdown",
   "metadata": {},
   "source": [
    "#### Prior\n",
    "\n",
    "$$\n",
    "p(x) = \\mathcal{N}(x|0, Z_{x}) \\\\\n",
    "Z_x(p_i, p_j) = A\\exp\\left(- \\dfrac{\\|v_i - v_j\\|^2_2}{r^2}\\right)\n",
    "$$\n",
    "\n",
    "Where $v_i, v_j$ denotes the 2D-spatial postions of the pixels $i$ and $j$.\n",
    "Matrix $Z_x$ is fixed and we will use $A=1, r = 2$ "
   ]
  },
  {
   "cell_type": "markdown",
   "metadata": {},
   "source": [
    "#### Distortion model"
   ]
  },
  {
   "cell_type": "markdown",
   "metadata": {},
   "source": [
    "From original (unobserved) image $x$ we obtain observed $y$ by corraption with the distortion matrix $W^k\\in\\mathbb{R}^{M\\times N}$\n",
    "\n",
    "$$\n",
    "y^{k} = W^{k}x+{\\varepsilon}_k \\\\\n",
    "\\varepsilon_k^{i}\\sim_{\\text{iid}}\\mathcal{N}(0,\\beta^{-1})\n",
    "$$"
   ]
  },
  {
   "cell_type": "markdown",
   "metadata": {},
   "source": [
    "Matrix $W_k$ is maden by function which captures the down-sampling process.\n",
    "\n",
    "$$\n",
    "W_{ji}^{k} = \\dfrac{\\widetilde{W}_{ji}^{k}}{\\sum_{i'}\\widetilde{W}^{k}_{ji}}\n",
    "$$\n",
    "\n",
    "$$\n",
    "\\widetilde{W}_{ij}^{k} = \\exp\\left(\\dfrac{\\|v_i - u_{j}^{k}\\|_2^2}{\\gamma^2}\\right)\n",
    "$$\n",
    "\n",
    "As $W_k\\in\\mathbb{R}^{M\\times N}$, $j=1,\\dots,M$ and $i=1,\\dots,N$"
   ]
  },
  {
   "cell_type": "markdown",
   "metadata": {},
   "source": [
    "$v_i$ is the spatial coordinates of $i$ pixel of the orignal image $x$. And $u_j$ is made by rotation and shift:\n",
    "\n",
    "$$\n",
    "u_j^{k} = R^{k}(v_j - \\overline{v})+\\overline{v} + s_k\n",
    "$$\n",
    "\n",
    "Where $R^{k}$ is the rotation matrix of $k$ image:\n",
    "\n",
    "$$\n",
    "R^{k} = \\begin{pmatrix}\n",
    "\\cos\\theta_k & \\sin\\theta_k\\\\ \n",
    "-\\sin\\theta_k &  \\cos\\theta_k\n",
    "\\end{pmatrix}\n",
    "$$\n",
    "And $s_k$ is shift of image"
   ]
  },
  {
   "cell_type": "markdown",
   "metadata": {},
   "source": [
    "### Likelihood"
   ]
  },
  {
   "cell_type": "markdown",
   "metadata": {},
   "source": [
    "For now, we can write the likelihood function:\n",
    "    \n",
    "$$\n",
    "p(y^{k}|x,s_k,\\theta_k,\\gamma) = \\left(\\dfrac{\\beta}{2\\pi}\\right)^{M/2}\\exp\\left(-\\dfrac{\\beta}{2}\\|y^{k} - W^{k}x\\|^2_2\\right)\n",
    "$$"
   ]
  },
  {
   "cell_type": "markdown",
   "metadata": {},
   "source": [
    "With this result, if we know $\\{y^k, s_k, \\theta_k\\}_{k=1}^{K},\\gamma$, we can restore $x$ just with MAP estimation $\\mu$"
   ]
  },
  {
   "cell_type": "markdown",
   "metadata": {},
   "source": [
    "### Posterior"
   ]
  },
  {
   "cell_type": "markdown",
   "metadata": {},
   "source": [
    "$$ p(x|\\{y^k, s_k, \\theta_k\\}_{k=1}^{K},\\gamma)\n",
    "= \\frac\n",
    "{\\prod_{k=1}^K p(y^{k}|x,s_k,\\theta_k,\\gamma) p(x)}\n",
    "{\\int \\prod_{k=1}^K p(y^{k}|x,s_k,\\theta_k,\\gamma) p(x) dx} \\propto $$\n",
    "\n",
    "$$ \\propto \\prod_{k=1}^K \n",
    "\\exp\\left(-\\dfrac{\\beta}{2}\\|y^{k} - W^{k}x\\|^2_2\\right)\n",
    "\\exp\\left(-\\dfrac{1}{2} x^T Z_{x}^{-1} x \\right) = $$\n",
    "\n",
    "$$ = \\exp \\left( \n",
    "-\\dfrac{\\beta}{2} \\sum_{k=1}^K (y^{k} - W^{k}x)^T (y^{k} - W^{k}x)-\\dfrac{1}{2} x^T Z_{x}^{-1} x \n",
    "\\right) = $$\n"
   ]
  },
  {
   "cell_type": "markdown",
   "metadata": {},
   "source": [
    "$$ = \\exp \\bigg\\{\n",
    "-\\dfrac{1}{2} \\left(\n",
    "\\beta \\sum_{k=1}^K {y^k}^Ty^{k} \n",
    "- 2 \\beta \\sum_{k=1}^K {y^k}^T W^{k}x \n",
    "+ \\beta \\sum_{k=1}^K x^T {W^{k}}^T W^{k}x + x^T Z_{x}^{-1} x \n",
    "\\right)\n",
    "\\bigg\\} = $$"
   ]
  },
  {
   "cell_type": "markdown",
   "metadata": {},
   "source": [
    "$$ = \\exp \\bigg\\{\n",
    "-\\dfrac{1}{2} \\left(\n",
    "\\beta \\sum_{k=1}^K {y^k}^Ty^{k} \n",
    "- 2 \\beta \\sum_{k=1}^K {y^k}^T W^{k}x \n",
    "+ x^T \\left[ Z_{x}^{-1} + \\beta \\sum_{k=1}^K {W^{k}}^T W^{k} \\right] x \n",
    "\\right)\n",
    "\\bigg\\} $$"
   ]
  },
  {
   "cell_type": "markdown",
   "metadata": {},
   "source": [
    "Let us denote:\n",
    "\n",
    "$$ M = Z_{x}^{-1} + \\beta \\sum_{k=1}^K {W^{k}}^T W^{k} $$\n",
    "\n",
    "$$ m = \\beta (M^{-1})^T \\left( \\sum_{k=1}^K {y^k}^T W^{k} \\right) $$"
   ]
  },
  {
   "cell_type": "markdown",
   "metadata": {},
   "source": [
    "Then our expression transforms into:\n",
    "\n",
    "$$ \\exp \\left\\{ -\\dfrac{1}{2} \\left( x^T M x - 2 m^T M x + const \\right) \\right\\} \n",
    "\\propto \\exp \\left\\{ -\\dfrac{1}{2} (x-m)^T M (x-m) \\right\\}  $$"
   ]
  },
  {
   "cell_type": "markdown",
   "metadata": {},
   "source": [
    "Hence,\n",
    "\n",
    "$$ p(x|\\{y^k, s_k, \\theta_k\\}_{k=1}^{K},\\gamma) = \\mathcal{N}(\\mu, \\Sigma) $$\n",
    "\n",
    "$$ \\Sigma = \\left[ Z_x^{-1} + \\beta \\sum_{k=1}^K {W^k}^T {W^k} \\right]^{-1} $$\n",
    "\n",
    "$$ \\mu = \\beta \\Sigma \\left( \\sum_{k=1}^K {W^k}^T y^k \\right) $$"
   ]
  },
  {
   "cell_type": "markdown",
   "metadata": {},
   "source": [
    "### Evidence"
   ]
  },
  {
   "cell_type": "markdown",
   "metadata": {},
   "source": [
    "$$ p(y_1,\\dots,y_k;\\{s_k, \\theta_k\\}_{k=1}^{K},\\gamma) \n",
    "= \\int \\prod_{k=1}^K p(y^{k}|x,s_k,\\theta_k,\\gamma) p(x) dx = $$"
   ]
  },
  {
   "cell_type": "markdown",
   "metadata": {},
   "source": [
    "$$ = \\frac{\\beta^{\\frac{KM}{2}}}{(2\\pi)^{\\frac{KM + N}{2}}\\left|Z_x\\right|^{\\frac{1}{2}}} \n",
    "\\exp \\bigg\\{\n",
    "-\\dfrac{1}{2} \\left(\n",
    "\\beta \\sum_{k=1}^K {y^k}^Ty^{k} \n",
    "- 2 \\beta \\sum_{k=1}^K {y^k}^T W^{k}x \n",
    "+ x^T \\left[ Z_{x}^{-1} + \\beta \\sum_{k=1}^K {W^{k}}^T W^{k} \\right] x \n",
    "\\right)\n",
    "\\bigg\\} = $$"
   ]
  },
  {
   "cell_type": "markdown",
   "metadata": {},
   "source": [
    "$$ = \\frac{\\beta^{\\frac{KM}{2}}}{(2\\pi)^{\\frac{KM + N}{2}}\\left|Z_x\\right|^{\\frac{1}{2}}} \n",
    "\\int\n",
    "\\exp \\bigg\\{\n",
    "-\\dfrac{1}{2} \\left(\n",
    "\\beta \\sum_{k=1}^K {y^k}^Ty^{k} \n",
    "- 2 \\mu^T \\Sigma^{-1} x \n",
    "+ x^T \\Sigma^{-1} x\n",
    "+ \\mu^T \\Sigma^{-1} \\mu\n",
    "- \\mu^T \\Sigma^{-1} \\mu\n",
    "\\right)\n",
    "\\bigg\\} dx = $$"
   ]
  },
  {
   "cell_type": "markdown",
   "metadata": {},
   "source": [
    "$$ = \\frac{\\beta^{\\frac{KM}{2}}}{(2\\pi)^{\\frac{KM + N}{2}}\\left|Z_x\\right|^{\\frac{1}{2}}} \n",
    "\\exp \\bigg\\{\n",
    "-\\dfrac{\\beta}{2}\n",
    "\\sum_{k=1}^K {y^k}^Ty^{k} \n",
    "+ \\dfrac{1}{2} \\mu^T \\Sigma^{-1} \\mu\n",
    "\\bigg\\}\n",
    "\\int\n",
    "\\exp \\bigg\\{\n",
    "-\\dfrac{1}{2}\n",
    "(x-\\mu)^T \\Sigma^{-1} (x-\\mu)\n",
    "\\bigg\\} dx $$"
   ]
  },
  {
   "cell_type": "markdown",
   "metadata": {},
   "source": [
    "One can notice that:\n",
    "\n",
    "$$ \\int\n",
    "\\exp \\bigg\\{\n",
    "-\\dfrac{1}{2}\n",
    "(x-\\mu)^T \\Sigma^{-1} (x-\\mu)\n",
    "\\bigg\\} dx = \n",
    "(2\\pi)^{\\frac{N}{2}} \\left| \\Sigma \\right|^{\\frac{1}{2}} $$"
   ]
  },
  {
   "cell_type": "markdown",
   "metadata": {},
   "source": [
    "Finally,\n",
    "\n",
    "$$ p(y_1,\\dots,y_k;\\{s_k, \\theta_k\\}_{k=1}^{K},\\gamma)\n",
    "= \\frac{\\beta^{\\frac{KM}{2}}  \\left| \\Sigma \\right|^{\\frac{1}{2}} }\n",
    "{(2\\pi)^{\\frac{KM}{2}}\\left|Z_x\\right|^{\\frac{1}{2}}} \n",
    "\\exp \\bigg\\{\n",
    "-\\dfrac{\\beta}{2}\n",
    "\\sum_{k=1}^K {y^k}^Ty^{k} \n",
    "+ \\dfrac{1}{2} \\mu^T \\Sigma^{-1} \\mu\n",
    "\\bigg\\} $$"
   ]
  },
  {
   "cell_type": "markdown",
   "metadata": {},
   "source": [
    "### Coding\n",
    "\n",
    "For now, you should optimise over $\\left(\\{s_k,\\theta_k\\}_{k=1}^{K},\\gamma\\right)$ log of evidence:\n",
    "\n",
    "$$\n",
    "\\max \\log p(y_1,\\dots,y_k;\\{s_k, \\theta_k\\}_{k=1}^{K},\\gamma)\n",
    "$$\n",
    "\n",
    "And then just use $\\mu$ as estimator of original image. \n",
    "\n",
    "For Michael E. Tipping it was hard problem, I guess.\n",
    "\n",
    "But you are have PyTorch! So, just write forward pass, use minus log of evidence as loss function and Adam as optimizer."
   ]
  },
  {
   "cell_type": "markdown",
   "metadata": {},
   "source": [
    "Before that, we need to generate train dataset of corrupted images.\n",
    "You can use my image or any image that you like! But note that we have $K$ matrix of $N\\times M$, so to make all faster, it is better to take small images. "
   ]
  },
  {
   "cell_type": "code",
   "execution_count": 2,
   "metadata": {},
   "outputs": [],
   "source": [
    "def make_coordinates(h, w):\n",
    "    x_1 = np.arange(h*w) % w\n",
    "    x_2 = np.arange(h*w) // w    \n",
    "    v = np.array([x_1, x_2]).T\n",
    "    return v"
   ]
  },
  {
   "cell_type": "code",
   "execution_count": 3,
   "metadata": {},
   "outputs": [],
   "source": [
    "X = plt.imread('img/duck30.png')[:,:,0]\n",
    "X = (X - np.mean(X)) / np.std(X)"
   ]
  },
  {
   "cell_type": "code",
   "execution_count": 4,
   "metadata": {},
   "outputs": [],
   "source": [
    "from scipy.misc import imresize\n",
    "from scipy.ndimage import rotate\n",
    "\n",
    "def make_train(img, rate=30, K=20, std=0.01, verbose=True):\n",
    "    corrapted_ls = []\n",
    "    theta_ls = [6, 5, -4, -7]\n",
    "    for k in range(K):\n",
    "        theta = np.random.choice(theta_ls)\n",
    "        corrapted_img = rotate(img, theta)\n",
    "        corrapted_img = imresize(corrapted_img, rate)\n",
    "        corrapted_img = (corrapted_img - np.mean(corrapted_img)) / np.std(corrapted_img)\n",
    "        noise = np.random.randn(corrapted_img.shape[0]*corrapted_img.shape[1])*std\n",
    "        corrapted_img += noise.reshape(*corrapted_img.shape)\n",
    "        corrapted_ls.append(corrapted_img)\n",
    "        \n",
    "    if verbose:\n",
    "        fig = plt.figure(figsize=(20, 10));\n",
    "        fig.subplots_adjust(hspace=0.4, wspace=0.4);\n",
    "        for i in range(1, K+1):\n",
    "            ax = fig.add_subplot(4, K // 4, i);\n",
    "            ax.imshow(corrapted_ls[i-1], cmap='gray');\n",
    "            \n",
    "    return corrapted_ls"
   ]
  },
  {
   "cell_type": "code",
   "execution_count": 5,
   "metadata": {},
   "outputs": [
    {
     "data": {
      "image/png": "[encoded data removed]",
      "text/plain": [
       "<matplotlib.figure.Figure at 0x7f6ff52f3908>"
      ]
     },
     "metadata": {},
     "output_type": "display_data"
    }
   ],
   "source": [
    "std = 0.5\n",
    "img_corrapted = make_train(X, rate=30, K=20, std=std)\n",
    "y = [img.flatten() for img in img_corrapted]"
   ]
  },
  {
   "cell_type": "markdown",
   "metadata": {},
   "source": [
    "### log-evidence\n",
    "$$ -\\log p(y_1,\\dots,y_k;\\{s_k, \\theta_k\\}_{k=1}^{K},\\gamma)\n",
    "= \n",
    "- \\log \\left| \\Sigma \\right|\n",
    "+ \\log \\left|Z_x\\right|\n",
    "+ \\beta \\sum_{k=1}^K {y^k}^Ty^{k} \n",
    "- \\mu^T \\Sigma^{-1} \\mu $$"
   ]
  },
  {
   "cell_type": "code",
   "execution_count": 6,
   "metadata": {},
   "outputs": [
    {
     "name": "stdout",
     "output_type": "stream",
     "text": [
      "beta=2.0\n",
      "K=20\n",
      "N=900\n",
      "std=0.5\n",
      "r=2\n"
     ]
    }
   ],
   "source": [
    "beta = 1/std\n",
    "K = 20\n",
    "N = X.shape[0]*X.shape[1]\n",
    "M = y[0].shape[0]\n",
    "r = 2\n",
    "\n",
    "print(f\"beta={beta}\\nK={K}\\nN={N}\\nstd={std}\\nr={r}\")"
   ]
  },
  {
   "cell_type": "code",
   "execution_count": 7,
   "metadata": {},
   "outputs": [],
   "source": [
    "class Model(nn.Module):\n",
    "    \n",
    "    def __init__(self, X, K=20, std=0.5):\n",
    "        super(Model, self).__init__()\n",
    "        self.s = nn.Parameter(torch.randn(K, 2))\n",
    "        self.theta = nn.Parameter(torch.randn(K))\n",
    "        self.gamma = nn.Parameter(torch.tensor(1, dtype=torch.float, requires_grad=True))\n",
    "\n",
    "        self.beta = 1./std\n",
    "        self.N = X.shape[0]*X.shape[1]\n",
    "        self.M = y[0].shape[0]\n",
    "        self.K = K\n",
    "        \n",
    "        nu = self.get_nu(X)\n",
    "        u = self.get_u(nu)\n",
    "        self.Zx = self.get_zx(nu)\n",
    "        self.W = self.get_w(nu, u)\n",
    "        self.Sigma = self.get_sigma()        \n",
    "\n",
    "    def forward(self, y):\n",
    "        mu = self.get_mu(y)\n",
    "        y_sum = sum(y[k].dot(y[k]) for k in range(K))\n",
    "        detZx = torch.slogdet(self.Zx)[1]\n",
    "        detSigma = torch.slogdet(self.Sigma)[1]\n",
    "        return -detSigma + detZx + self.beta * y_sum - mu.dot(torch.mv(self.Sigma.inverse(), mu))\n",
    "    \n",
    "    def get_nu(self, X): # Nx2 vector\n",
    "        return torch.Tensor(make_coordinates(*X.shape))\n",
    "    \n",
    "    def get_u(self, nu): # KxNx2\n",
    "        u = torch.zeros(self.K, self.N, 2, dtype=torch.float)\n",
    "        for k in range(self.K):\n",
    "            theta_k = self.theta[k]\n",
    "            R = torch.Tensor([[torch.cos(theta_k), torch.sin(theta_k)], [-torch.sin(theta_k), torch.cos(theta_k)]])\n",
    "            nu_mean = nu.mean()\n",
    "            u[k] = (nu - nu_mean).mm(R.t()) + nu_mean + self.s[k]\n",
    "        return u\n",
    "    \n",
    "    def get_zx(self, nu): # NxN matrix\n",
    "        nu_ = nu.reshape(1, *nu.shape)\n",
    "        A_ = nu_.permute((1, 0, 2)) - nu_\n",
    "        return A_.pow_(2).sum(dim=2).sqrt_().mul_(-0.25).exp_()\n",
    "    \n",
    "    def get_w(self, nu, u): # KxMxN\n",
    "        W0 = self.get_w0(nu, u)\n",
    "        W = torch.zeros(self.K, self.M, self.N)\n",
    "        for k in range(self.K):\n",
    "            W[k] = W0[k] / W0[k].sum(dim=0)\n",
    "        return W\n",
    "    \n",
    "    def get_w0(self, nu, u): # KxMxN\n",
    "        W0 = torch.zeros(self.K, self.M, self.N)\n",
    "        for k in range(self.K):\n",
    "            nu_ = nu.reshape(1, *nu.shape)\n",
    "            A_ = nu_.permute((1, 0, 2)) - u[k]\n",
    "            W0[k] = A_[:M,:].pow_(2).sum(dim=2).sqrt_().div(self.gamma**2).exp_()\n",
    "        return W0\n",
    "    \n",
    "    def get_sigma(self): # NxN\n",
    "        w_product = torch.zeros(self.N,self.N)\n",
    "        for k in range(self.K):\n",
    "            w_product += self.W[k].t().mm(self.W[k])\n",
    "        return torch.inverse(self.Zx.inverse() + self.beta * w_product)\n",
    "    \n",
    "    def get_mu(self, y): # N\n",
    "        wy_product = torch.zeros(self.N)\n",
    "        for k in range(self.K):\n",
    "            wy_product += torch.mv(self.W[k].t(), y[k])\n",
    "        return self.beta * torch.mv(self.Sigma, wy_product)"
   ]
  },
  {
   "cell_type": "code",
   "execution_count": 8,
   "metadata": {},
   "outputs": [],
   "source": [
    "model = Model(X)\n",
    "optimizer = torch.optim.Adam(model.parameters())"
   ]
  },
  {
   "cell_type": "code",
   "execution_count": 9,
   "metadata": {},
   "outputs": [
    {
     "name": "stdout",
     "output_type": "stream",
     "text": [
      "3967.184814453125\n",
      "3945.4267578125\n",
      "3959.719970703125\n",
      "3944.950927734375\n",
      "3971.20166015625\n"
     ]
    }
   ],
   "source": [
    "for i in range(5):\n",
    "    optimizer.zero_grad()\n",
    "    y = torch.Tensor([img.flatten() for img in make_train(X, std=std, verbose=False)])\n",
    "    loss = model(y)\n",
    "    print(loss.item())\n",
    "    loss.backward(retain_graph=True)\n",
    "    optimizer.step()"
   ]
  }
 ],
 "metadata": {
  "kernelspec": {
   "display_name": "Python 3",
   "language": "python",
   "name": "python3"
  },
  "language_info": {
   "codemirror_mode": {
    "name": "ipython",
    "version": 3
   },
   "file_extension": ".py",
   "mimetype": "text/x-python",
   "name": "python",
   "nbconvert_exporter": "python",
   "pygments_lexer": "ipython3",
   "version": "3.6.5"
  }
 },
 "nbformat": 4,
 "nbformat_minor": 2
}
